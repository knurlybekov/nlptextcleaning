{
 "cells": [
  {
   "cell_type": "markdown",
   "id": "8a77807f92f26ee",
   "metadata": {},
   "source": [
    "# This is a sample Jupyter Notebook\n",
    "\n",
    "Below is an example of a code cell. \n",
    "Put your cursor into the cell and press Shift+Enter to execute it and select the next one, or click !here goes the icon of the corresponding button in the gutter! button.\n",
    "To debug a cell, press Alt+Shift+Enter, or click !here goes the icon of the corresponding button in the gutter! button.\n",
    "\n",
    "Press Double Shift to search everywhere for classes, files, tool windows, actions, and settings.\n",
    "\n",
    "To learn more about Jupyter Notebooks in PyCharm, see [help](https://www.jetbrains.com/help/pycharm/jupyter-notebook-support.html).\n",
    "For an overview of PyCharm, go to Help -> Learn IDE features or refer to [our documentation](https://www.jetbrains.com/help/pycharm/getting-started.html)."
   ]
  },
  {
   "cell_type": "code",
   "execution_count": 1,
   "id": "58edc39f",
   "metadata": {},
   "outputs": [
    {
     "name": "stdout",
     "output_type": "stream",
     "text": [
      "Collecting pandas\n",
      "  Using cached pandas-2.2.3-cp312-cp312-win_amd64.whl.metadata (19 kB)\n",
      "Collecting numpy>=1.26.0 (from pandas)\n",
      "  Downloading numpy-2.2.3-cp312-cp312-win_amd64.whl.metadata (60 kB)\n",
      "Requirement already satisfied: python-dateutil>=2.8.2 in c:\\users\\ethan\\pycharmprojects\\nlptextcleaning\\.venv\\lib\\site-packages (from pandas) (2.9.0.post0)\n",
      "Collecting pytz>=2020.1 (from pandas)\n",
      "  Using cached pytz-2025.1-py2.py3-none-any.whl.metadata (22 kB)\n",
      "Collecting tzdata>=2022.7 (from pandas)\n",
      "  Using cached tzdata-2025.1-py2.py3-none-any.whl.metadata (1.4 kB)\n",
      "Requirement already satisfied: six>=1.5 in c:\\users\\ethan\\pycharmprojects\\nlptextcleaning\\.venv\\lib\\site-packages (from python-dateutil>=2.8.2->pandas) (1.17.0)\n",
      "Using cached pandas-2.2.3-cp312-cp312-win_amd64.whl (11.5 MB)\n",
      "Downloading numpy-2.2.3-cp312-cp312-win_amd64.whl (12.6 MB)\n",
      "   ---------------------------------------- 0.0/12.6 MB ? eta -:--:--\n",
      "   ----- ---------------------------------- 1.8/12.6 MB 10.0 MB/s eta 0:00:02\n",
      "   ------------ --------------------------- 3.9/12.6 MB 10.2 MB/s eta 0:00:01\n",
      "   ---------------- ----------------------- 5.2/12.6 MB 9.7 MB/s eta 0:00:01\n",
      "   ----------------------- ---------------- 7.3/12.6 MB 8.9 MB/s eta 0:00:01\n",
      "   ----------------------------- ---------- 9.2/12.6 MB 8.8 MB/s eta 0:00:01\n",
      "   ----------------------------------- ---- 11.3/12.6 MB 9.0 MB/s eta 0:00:01\n",
      "   ---------------------------------------- 12.6/12.6 MB 9.1 MB/s eta 0:00:00\n",
      "Using cached pytz-2025.1-py2.py3-none-any.whl (507 kB)\n",
      "Using cached tzdata-2025.1-py2.py3-none-any.whl (346 kB)\n",
      "Installing collected packages: pytz, tzdata, numpy, pandas\n",
      "Successfully installed numpy-2.2.3 pandas-2.2.3 pytz-2025.1 tzdata-2025.1\n",
      "Note: you may need to restart the kernel to use updated packages.\n"
     ]
    }
   ],
   "source": [
    "%pip install pandas"
   ]
  },
  {
   "cell_type": "code",
   "execution_count": 2,
   "id": "472771d1",
   "metadata": {},
   "outputs": [
    {
     "name": "stdout",
     "output_type": "stream",
     "text": [
      "Collecting nltk\n",
      "  Downloading nltk-3.9.1-py3-none-any.whl.metadata (2.9 kB)\n",
      "Collecting click (from nltk)\n",
      "  Downloading click-8.1.8-py3-none-any.whl.metadata (2.3 kB)\n",
      "Collecting joblib (from nltk)\n",
      "  Downloading joblib-1.4.2-py3-none-any.whl.metadata (5.4 kB)\n",
      "Collecting regex>=2021.8.3 (from nltk)\n",
      "  Downloading regex-2024.11.6-cp312-cp312-win_amd64.whl.metadata (41 kB)\n",
      "Collecting tqdm (from nltk)\n",
      "  Downloading tqdm-4.67.1-py3-none-any.whl.metadata (57 kB)\n",
      "Requirement already satisfied: colorama in c:\\users\\ethan\\pycharmprojects\\nlptextcleaning\\.venv\\lib\\site-packages (from click->nltk) (0.4.6)\n",
      "Downloading nltk-3.9.1-py3-none-any.whl (1.5 MB)\n",
      "   ---------------------------------------- 0.0/1.5 MB ? eta -:--:--\n",
      "   ------ --------------------------------- 0.3/1.5 MB ? eta -:--:--\n",
      "   ---------------------------------------- 1.5/1.5 MB 5.3 MB/s eta 0:00:00\n",
      "Downloading regex-2024.11.6-cp312-cp312-win_amd64.whl (273 kB)\n",
      "Downloading click-8.1.8-py3-none-any.whl (98 kB)\n",
      "Downloading joblib-1.4.2-py3-none-any.whl (301 kB)\n",
      "Downloading tqdm-4.67.1-py3-none-any.whl (78 kB)\n",
      "Installing collected packages: tqdm, regex, joblib, click, nltk\n",
      "Successfully installed click-8.1.8 joblib-1.4.2 nltk-3.9.1 regex-2024.11.6 tqdm-4.67.1\n",
      "Note: you may need to restart the kernel to use updated packages.\n"
     ]
    }
   ],
   "source": [
    "%pip install nltk"
   ]
  },
  {
   "cell_type": "code",
   "execution_count": 16,
   "id": "fbc121e30a2defb3",
   "metadata": {
    "ExecuteTime": {
     "end_time": "2025-02-11T21:18:00.707188Z",
     "start_time": "2025-02-11T21:18:00.584308Z"
    }
   },
   "outputs": [
    {
     "name": "stdout",
     "output_type": "stream",
     "text": [
      "  category                                               text\n",
      "0     arts  you are using an older browser version. please...\n",
      "1     arts  on 31 march two of classical music s most acco...\n",
      "2     arts  bpt after a year of being locked away at home ...\n",
      "3     arts  pilot uninjured plane hit sandbar while landin...\n",
      "4     arts  colleen distin photo by facebook toronto sun ....\n"
     ]
    }
   ],
   "source": [
    "import pandas as pd\n",
    "\n",
    "df = pd.read_csv('data/COMP_chunk_2.csv')\n",
    "print(df.head())"
   ]
  },
  {
   "cell_type": "code",
   "execution_count": 11,
   "id": "e8b31a8e5c83ba88",
   "metadata": {
    "ExecuteTime": {
     "end_time": "2025-02-11T21:15:45.519011Z",
     "start_time": "2025-02-11T21:15:45.513866Z"
    }
   },
   "outputs": [
    {
     "data": {
      "text/plain": [
       "array(['arts', 'crime', 'disaster', 'economy', 'education',\n",
       "       'environmental', 'health', 'humanInterest', 'labour', 'lifestyle',\n",
       "       'other', 'politics', 'religion', 'science', 'social', 'sport',\n",
       "       'unrest', 'weather'], dtype=object)"
      ]
     },
     "execution_count": 11,
     "metadata": {},
     "output_type": "execute_result"
    }
   ],
   "source": [
    "df['category'].unique()"
   ]
  },
  {
   "cell_type": "code",
   "execution_count": 4,
   "id": "509ce632f2ddecb4",
   "metadata": {
    "ExecuteTime": {
     "end_time": "2025-02-11T21:05:21.899324Z",
     "start_time": "2025-02-11T21:05:21.894511Z"
    }
   },
   "outputs": [],
   "source": [
    "df = df.dropna(axis=0, how='any')\n"
   ]
  },
  {
   "cell_type": "code",
   "execution_count": 5,
   "id": "f54ff96888ee3455",
   "metadata": {
    "ExecuteTime": {
     "end_time": "2025-02-11T21:05:47.892324Z",
     "start_time": "2025-02-11T21:05:47.876988Z"
    }
   },
   "outputs": [],
   "source": [
    "df = df.apply(lambda x: x.str.lower())"
   ]
  },
  {
   "cell_type": "code",
   "execution_count": 18,
   "id": "af3d1cf3b0b1e7b7",
   "metadata": {
    "ExecuteTime": {
     "end_time": "2025-02-11T21:18:23.959886Z",
     "start_time": "2025-02-11T21:18:23.376555Z"
    }
   },
   "outputs": [
    {
     "name": "stdout",
     "output_type": "stream",
     "text": [
      "  category                                               text\n",
      "0     arts  you are using an older browser version please ...\n",
      "1     arts  on march two of classical music s most accompl...\n",
      "2     arts  bpt after a year of being locked away at home ...\n",
      "3     arts  pilot uninjured plane hit sandbar while landin...\n",
      "4     arts  colleen distin photo by facebook toronto sun a...\n"
     ]
    }
   ],
   "source": [
    "df[\"text\"] = df[\"text\"].apply(lambda x: \" \".join(\"\".join([ch if ch.isalpha() or ch.isspace() else \"\" for ch in str(x)]).split()))\n",
    "\n",
    "print(df.head())"
   ]
  },
  {
   "cell_type": "code",
   "execution_count": 21,
   "id": "6cc84d3f04033bfd",
   "metadata": {
    "ExecuteTime": {
     "end_time": "2025-02-11T21:22:22.453884Z",
     "start_time": "2025-02-11T21:22:22.162876Z"
    }
   },
   "outputs": [
    {
     "name": "stderr",
     "output_type": "stream",
     "text": [
      "[nltk_data] Downloading package stopwords to\n",
      "[nltk_data]     /Users/karennurlybekov/nltk_data...\n",
      "[nltk_data]   Package stopwords is already up-to-date!\n"
     ]
    },
    {
     "data": {
      "text/html": [
       "<div>\n",
       "<style scoped>\n",
       "    .dataframe tbody tr th:only-of-type {\n",
       "        vertical-align: middle;\n",
       "    }\n",
       "\n",
       "    .dataframe tbody tr th {\n",
       "        vertical-align: top;\n",
       "    }\n",
       "\n",
       "    .dataframe thead th {\n",
       "        text-align: right;\n",
       "    }\n",
       "</style>\n",
       "<table border=\"1\" class=\"dataframe\">\n",
       "  <thead>\n",
       "    <tr style=\"text-align: right;\">\n",
       "      <th></th>\n",
       "      <th>category</th>\n",
       "      <th>text</th>\n",
       "      <th>clean_text</th>\n",
       "    </tr>\n",
       "  </thead>\n",
       "  <tbody>\n",
       "    <tr>\n",
       "      <th>0</th>\n",
       "      <td>arts</td>\n",
       "      <td>you are using an older browser version please ...</td>\n",
       "      <td>using older browser version please use support...</td>\n",
       "    </tr>\n",
       "    <tr>\n",
       "      <th>1</th>\n",
       "      <td>arts</td>\n",
       "      <td>on march two of classical music s most accompl...</td>\n",
       "      <td>march two classical music accomplished well kn...</td>\n",
       "    </tr>\n",
       "    <tr>\n",
       "      <th>2</th>\n",
       "      <td>arts</td>\n",
       "      <td>bpt after a year of being locked away at home ...</td>\n",
       "      <td>bpt year locked away home world eager reopen e...</td>\n",
       "    </tr>\n",
       "    <tr>\n",
       "      <th>3</th>\n",
       "      <td>arts</td>\n",
       "      <td>pilot uninjured plane hit sandbar while landin...</td>\n",
       "      <td>pilot uninjured plane hit sandbar landing floa...</td>\n",
       "    </tr>\n",
       "    <tr>\n",
       "      <th>4</th>\n",
       "      <td>arts</td>\n",
       "      <td>colleen distin photo by facebook toronto sun a...</td>\n",
       "      <td>colleen distin photo facebook toronto sun lost...</td>\n",
       "    </tr>\n",
       "    <tr>\n",
       "      <th>...</th>\n",
       "      <td>...</td>\n",
       "      <td>...</td>\n",
       "      <td>...</td>\n",
       "    </tr>\n",
       "    <tr>\n",
       "      <th>5395</th>\n",
       "      <td>weather</td>\n",
       "      <td>orangeburg this evening in orangeburg cloudy s...</td>\n",
       "      <td>orangeburg evening orangeburg cloudy skies str...</td>\n",
       "    </tr>\n",
       "    <tr>\n",
       "      <th>5396</th>\n",
       "      <td>weather</td>\n",
       "      <td>national basketball association north american...</td>\n",
       "      <td>national basketball association north american...</td>\n",
       "    </tr>\n",
       "    <tr>\n",
       "      <th>5397</th>\n",
       "      <td>weather</td>\n",
       "      <td>las vegas ap the southwest continued to bake s...</td>\n",
       "      <td>las vegas ap southwest continued bake saturday...</td>\n",
       "    </tr>\n",
       "    <tr>\n",
       "      <th>5398</th>\n",
       "      <td>weather</td>\n",
       "      <td>here is today s weather outlook for jun in mad...</td>\n",
       "      <td>today weather outlook jun madison wi madison f...</td>\n",
       "    </tr>\n",
       "    <tr>\n",
       "      <th>5399</th>\n",
       "      <td>weather</td>\n",
       "      <td>singapore about years ago sea levels in singap...</td>\n",
       "      <td>singapore years ago sea levels singapore least...</td>\n",
       "    </tr>\n",
       "  </tbody>\n",
       "</table>\n",
       "<p>5400 rows × 3 columns</p>\n",
       "</div>"
      ],
      "text/plain": [
       "     category                                               text  \\\n",
       "0        arts  you are using an older browser version please ...   \n",
       "1        arts  on march two of classical music s most accompl...   \n",
       "2        arts  bpt after a year of being locked away at home ...   \n",
       "3        arts  pilot uninjured plane hit sandbar while landin...   \n",
       "4        arts  colleen distin photo by facebook toronto sun a...   \n",
       "...       ...                                                ...   \n",
       "5395  weather  orangeburg this evening in orangeburg cloudy s...   \n",
       "5396  weather  national basketball association north american...   \n",
       "5397  weather  las vegas ap the southwest continued to bake s...   \n",
       "5398  weather  here is today s weather outlook for jun in mad...   \n",
       "5399  weather  singapore about years ago sea levels in singap...   \n",
       "\n",
       "                                             clean_text  \n",
       "0     using older browser version please use support...  \n",
       "1     march two classical music accomplished well kn...  \n",
       "2     bpt year locked away home world eager reopen e...  \n",
       "3     pilot uninjured plane hit sandbar landing floa...  \n",
       "4     colleen distin photo facebook toronto sun lost...  \n",
       "...                                                 ...  \n",
       "5395  orangeburg evening orangeburg cloudy skies str...  \n",
       "5396  national basketball association north american...  \n",
       "5397  las vegas ap southwest continued bake saturday...  \n",
       "5398  today weather outlook jun madison wi madison f...  \n",
       "5399  singapore years ago sea levels singapore least...  \n",
       "\n",
       "[5400 rows x 3 columns]"
      ]
     },
     "execution_count": 21,
     "metadata": {},
     "output_type": "execute_result"
    }
   ],
   "source": [
    "import nltk\n",
    "from nltk.corpus import stopwords\n",
    "nltk.download('stopwords')\n",
    "\n",
    "stop_words = set(stopwords.words('english'))\n",
    "df[\"clean_text\"] = df[\"text\"].apply(lambda x: \" \".join([word for word in x.split() if word.lower() not in stop_words]))\n",
    "\n",
    "df\n"
   ]
  },
  {
   "cell_type": "code",
   "execution_count": 22,
   "id": "27b9b0d59fccb063",
   "metadata": {
    "ExecuteTime": {
     "end_time": "2025-02-11T21:23:43.560132Z",
     "start_time": "2025-02-11T21:23:43.555187Z"
    }
   },
   "outputs": [
    {
     "data": {
      "text/html": [
       "<div>\n",
       "<style scoped>\n",
       "    .dataframe tbody tr th:only-of-type {\n",
       "        vertical-align: middle;\n",
       "    }\n",
       "\n",
       "    .dataframe tbody tr th {\n",
       "        vertical-align: top;\n",
       "    }\n",
       "\n",
       "    .dataframe thead th {\n",
       "        text-align: right;\n",
       "    }\n",
       "</style>\n",
       "<table border=\"1\" class=\"dataframe\">\n",
       "  <thead>\n",
       "    <tr style=\"text-align: right;\">\n",
       "      <th></th>\n",
       "      <th>category</th>\n",
       "      <th>clean_text</th>\n",
       "    </tr>\n",
       "  </thead>\n",
       "  <tbody>\n",
       "    <tr>\n",
       "      <th>0</th>\n",
       "      <td>arts</td>\n",
       "      <td>using older browser version please use support...</td>\n",
       "    </tr>\n",
       "    <tr>\n",
       "      <th>1</th>\n",
       "      <td>arts</td>\n",
       "      <td>march two classical music accomplished well kn...</td>\n",
       "    </tr>\n",
       "    <tr>\n",
       "      <th>2</th>\n",
       "      <td>arts</td>\n",
       "      <td>bpt year locked away home world eager reopen e...</td>\n",
       "    </tr>\n",
       "    <tr>\n",
       "      <th>3</th>\n",
       "      <td>arts</td>\n",
       "      <td>pilot uninjured plane hit sandbar landing floa...</td>\n",
       "    </tr>\n",
       "    <tr>\n",
       "      <th>4</th>\n",
       "      <td>arts</td>\n",
       "      <td>colleen distin photo facebook toronto sun lost...</td>\n",
       "    </tr>\n",
       "    <tr>\n",
       "      <th>...</th>\n",
       "      <td>...</td>\n",
       "      <td>...</td>\n",
       "    </tr>\n",
       "    <tr>\n",
       "      <th>5395</th>\n",
       "      <td>weather</td>\n",
       "      <td>orangeburg evening orangeburg cloudy skies str...</td>\n",
       "    </tr>\n",
       "    <tr>\n",
       "      <th>5396</th>\n",
       "      <td>weather</td>\n",
       "      <td>national basketball association north american...</td>\n",
       "    </tr>\n",
       "    <tr>\n",
       "      <th>5397</th>\n",
       "      <td>weather</td>\n",
       "      <td>las vegas ap southwest continued bake saturday...</td>\n",
       "    </tr>\n",
       "    <tr>\n",
       "      <th>5398</th>\n",
       "      <td>weather</td>\n",
       "      <td>today weather outlook jun madison wi madison f...</td>\n",
       "    </tr>\n",
       "    <tr>\n",
       "      <th>5399</th>\n",
       "      <td>weather</td>\n",
       "      <td>singapore years ago sea levels singapore least...</td>\n",
       "    </tr>\n",
       "  </tbody>\n",
       "</table>\n",
       "<p>5400 rows × 2 columns</p>\n",
       "</div>"
      ],
      "text/plain": [
       "     category                                         clean_text\n",
       "0        arts  using older browser version please use support...\n",
       "1        arts  march two classical music accomplished well kn...\n",
       "2        arts  bpt year locked away home world eager reopen e...\n",
       "3        arts  pilot uninjured plane hit sandbar landing floa...\n",
       "4        arts  colleen distin photo facebook toronto sun lost...\n",
       "...       ...                                                ...\n",
       "5395  weather  orangeburg evening orangeburg cloudy skies str...\n",
       "5396  weather  national basketball association north american...\n",
       "5397  weather  las vegas ap southwest continued bake saturday...\n",
       "5398  weather  today weather outlook jun madison wi madison f...\n",
       "5399  weather  singapore years ago sea levels singapore least...\n",
       "\n",
       "[5400 rows x 2 columns]"
      ]
     },
     "execution_count": 22,
     "metadata": {},
     "output_type": "execute_result"
    }
   ],
   "source": [
    "df_clean = df.drop(columns=['text'])\n",
    "df_clean"
   ]
  },
  {
   "cell_type": "code",
   "execution_count": null,
   "id": "ce3e11f2db2db552",
   "metadata": {},
   "outputs": [],
   "source": []
  }
 ],
 "metadata": {
  "kernelspec": {
   "display_name": ".venv",
   "language": "python",
   "name": "python3"
  },
  "language_info": {
   "codemirror_mode": {
    "name": "ipython",
    "version": 3
   },
   "file_extension": ".py",
   "mimetype": "text/x-python",
   "name": "python",
   "nbconvert_exporter": "python",
   "pygments_lexer": "ipython3",
   "version": "3.12.6"
  }
 },
 "nbformat": 4,
 "nbformat_minor": 5
}
