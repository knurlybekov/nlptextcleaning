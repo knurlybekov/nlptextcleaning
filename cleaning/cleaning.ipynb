{
 "cells": [
  {
   "cell_type": "code",
   "id": "initial_id",
   "metadata": {
    "collapsed": true,
    "ExecuteTime": {
     "end_time": "2025-03-01T02:38:27.404579Z",
     "start_time": "2025-03-01T02:38:26.842949Z"
    }
   },
   "source": [
    "import pandas as pd\n",
    "\n",
    "df = pd.read_csv('use_this_data/rest_data_last.csv')"
   ],
   "outputs": [],
   "execution_count": 1
  },
  {
   "metadata": {
    "ExecuteTime": {
     "end_time": "2025-03-01T02:38:29.171932Z",
     "start_time": "2025-03-01T02:38:29.168348Z"
    }
   },
   "cell_type": "code",
   "source": "df = df.dropna(axis=0, how='any')\n",
   "id": "e690e6ee1f6580b7",
   "outputs": [],
   "execution_count": 2
  },
  {
   "metadata": {
    "ExecuteTime": {
     "end_time": "2025-03-01T02:38:32.385066Z",
     "start_time": "2025-03-01T02:38:32.374762Z"
    }
   },
   "cell_type": "code",
   "source": "df = df.apply(lambda x: x.str.lower())\n",
   "id": "b2d85044ca9e6393",
   "outputs": [],
   "execution_count": 3
  },
  {
   "metadata": {
    "ExecuteTime": {
     "end_time": "2025-03-01T02:38:43.410947Z",
     "start_time": "2025-03-01T02:38:42.835889Z"
    }
   },
   "cell_type": "code",
   "source": [
    "df[\"text\"] = df[\"text\"].apply(lambda x: \" \".join(\"\".join([ch if ch.isalpha() or ch.isspace() else \"\" for ch in str(x)]).split()))\n",
    "\n",
    "print(df.head())"
   ],
   "id": "197459a6021aa1af",
   "outputs": [
    {
     "name": "stdout",
     "output_type": "stream",
     "text": [
      "  category                                               text\n",
      "0     arts  rob delaney vir das galen hopper samson kayo g...\n",
      "1     arts  andris nelsons conducts a joint concert of the...\n",
      "2     arts  warner music group has brought on sherry tan t...\n",
      "3     arts  adele will explore what she s been going throu...\n",
      "4     arts  you are using an older browser version please ...\n"
     ]
    }
   ],
   "execution_count": 4
  },
  {
   "metadata": {
    "ExecuteTime": {
     "end_time": "2025-03-01T02:38:50.344048Z",
     "start_time": "2025-03-01T02:38:50.337946Z"
    }
   },
   "cell_type": "code",
   "source": [
    "df[\"text\"] = df[\"text\"].apply(lambda x: x.strip())\n",
    "\n",
    "print(df.head())"
   ],
   "id": "9ce2a90ede7ea390",
   "outputs": [
    {
     "name": "stdout",
     "output_type": "stream",
     "text": [
      "  category                                               text\n",
      "0     arts  rob delaney vir das galen hopper samson kayo g...\n",
      "1     arts  andris nelsons conducts a joint concert of the...\n",
      "2     arts  warner music group has brought on sherry tan t...\n",
      "3     arts  adele will explore what she s been going throu...\n",
      "4     arts  you are using an older browser version please ...\n"
     ]
    }
   ],
   "execution_count": 5
  },
  {
   "metadata": {
    "ExecuteTime": {
     "end_time": "2025-02-20T23:06:58.015708Z",
     "start_time": "2025-02-20T23:05:59.689547Z"
    }
   },
   "cell_type": "code",
   "source": [
    "# print(df.head())\n",
    "# from textblob import TextBlob\n",
    "# from tqdm import tqdm\n",
    "# \n",
    "# tqdm.pandas()\n",
    "# \n",
    "# # fix errors\n",
    "# df[\"fixed_text\"] = df[\"text\"].progress_apply(\n",
    "#     lambda x: \"\".join([str(TextBlob(word).correct()) for word in x])\n",
    "# )\n",
    "# \n",
    "# df.head()"
   ],
   "id": "82b69fa4758db9ba",
   "outputs": [
    {
     "name": "stdout",
     "output_type": "stream",
     "text": [
      "  category                                               text  \\\n",
      "0     arts  you are using an older browser version please ...   \n",
      "1     arts  on march two of classical music s most accompl...   \n",
      "2     arts  bpt after a year of being locked away at home ...   \n",
      "3     arts  pilot uninjured plane hit sandbar while landin...   \n",
      "4     arts  colleen distin photo by facebook toronto sun a...   \n",
      "\n",
      "                                          fixed_text  \n",
      "0  y o u   a r e   u s i n g   a n   o l d e r   ...  \n",
      "1  o n   m a r c h   t w o   o f   c l a s s i c ...  \n",
      "2  b p t   a f t e r   a   y e a r   o f   b e i ...  \n",
      "3  p i l o t   u n i n j u r e d   p l a n e   h ...  \n",
      "4  c o l l e e n   d i s t i n   p h o t o   b y ...  \n"
     ]
    },
    {
     "name": "stderr",
     "output_type": "stream",
     "text": [
      "100%|██████████| 5292/5292 [00:58<00:00, 90.74it/s] \n"
     ]
    },
    {
     "data": {
      "text/plain": [
       "  category                                               text  \\\n",
       "0     arts  you are using an older browser version please ...   \n",
       "1     arts  on march two of classical music s most accompl...   \n",
       "2     arts  bpt after a year of being locked away at home ...   \n",
       "3     arts  pilot uninjured plane hit sandbar while landin...   \n",
       "4     arts  colleen distin photo by facebook toronto sun a...   \n",
       "\n",
       "                                          fixed_text  \n",
       "0  you are using an older browser version please ...  \n",
       "1  on march two of classical music s most accompl...  \n",
       "2  bpt after a year of being locked away at home ...  \n",
       "3  pilot uninjured plane hit sandbar while landin...  \n",
       "4  colleen distin photo by facebook toronto sun a...  "
      ],
      "text/html": [
       "<div>\n",
       "<style scoped>\n",
       "    .dataframe tbody tr th:only-of-type {\n",
       "        vertical-align: middle;\n",
       "    }\n",
       "\n",
       "    .dataframe tbody tr th {\n",
       "        vertical-align: top;\n",
       "    }\n",
       "\n",
       "    .dataframe thead th {\n",
       "        text-align: right;\n",
       "    }\n",
       "</style>\n",
       "<table border=\"1\" class=\"dataframe\">\n",
       "  <thead>\n",
       "    <tr style=\"text-align: right;\">\n",
       "      <th></th>\n",
       "      <th>category</th>\n",
       "      <th>text</th>\n",
       "      <th>fixed_text</th>\n",
       "    </tr>\n",
       "  </thead>\n",
       "  <tbody>\n",
       "    <tr>\n",
       "      <th>0</th>\n",
       "      <td>arts</td>\n",
       "      <td>you are using an older browser version please ...</td>\n",
       "      <td>you are using an older browser version please ...</td>\n",
       "    </tr>\n",
       "    <tr>\n",
       "      <th>1</th>\n",
       "      <td>arts</td>\n",
       "      <td>on march two of classical music s most accompl...</td>\n",
       "      <td>on march two of classical music s most accompl...</td>\n",
       "    </tr>\n",
       "    <tr>\n",
       "      <th>2</th>\n",
       "      <td>arts</td>\n",
       "      <td>bpt after a year of being locked away at home ...</td>\n",
       "      <td>bpt after a year of being locked away at home ...</td>\n",
       "    </tr>\n",
       "    <tr>\n",
       "      <th>3</th>\n",
       "      <td>arts</td>\n",
       "      <td>pilot uninjured plane hit sandbar while landin...</td>\n",
       "      <td>pilot uninjured plane hit sandbar while landin...</td>\n",
       "    </tr>\n",
       "    <tr>\n",
       "      <th>4</th>\n",
       "      <td>arts</td>\n",
       "      <td>colleen distin photo by facebook toronto sun a...</td>\n",
       "      <td>colleen distin photo by facebook toronto sun a...</td>\n",
       "    </tr>\n",
       "  </tbody>\n",
       "</table>\n",
       "</div>"
      ]
     },
     "execution_count": 26,
     "metadata": {},
     "output_type": "execute_result"
    }
   ],
   "execution_count": 26
  },
  {
   "metadata": {
    "ExecuteTime": {
     "end_time": "2025-03-01T02:39:34.344166Z",
     "start_time": "2025-03-01T02:39:31.567508Z"
    }
   },
   "cell_type": "code",
   "source": [
    "import re\n",
    "import nltk\n",
    "from nltk.corpus import stopwords, words\n",
    "from nltk.stem import WordNetLemmatizer\n",
    "from tqdm import tqdm\n",
    "\n",
    "tqdm.pandas()\n",
    "\n",
    "nltk.download('stopwords')\n",
    "nltk.download('wordnet')\n",
    "nltk.download('omw-1.4')  # optional, for better lemmatizer coverage\n",
    "english_vocab = set(w.lower() for w in words.words()) # english nltk vocab\n",
    "\n",
    "stop_words = set(stopwords.words('english'))\n",
    "lemmatizer = WordNetLemmatizer()\n",
    "\n",
    "df['clean_text'] = df['text'].progress_apply(\n",
    "    lambda text: \" \".join(\n",
    "        # Lemmatize each token\n",
    "        lemmatizer.lemmatize(word)\n",
    "        # Keep only letters, convert to lowercase, then split on whitespace\n",
    "        for word in re.sub(r'[^a-z\\s]', '', text.lower()).split()\n",
    "        # Remove stopwords\n",
    "        if word not in stop_words\n",
    "         if word not in stop_words\n",
    "           and len(word) >= 3\n",
    "           and word in english_vocab\n",
    "    )\n",
    ")\n",
    "\n",
    "df.head()"
   ],
   "id": "1f4c806c1a6e544c",
   "outputs": [
    {
     "name": "stderr",
     "output_type": "stream",
     "text": [
      "[nltk_data] Downloading package stopwords to\n",
      "[nltk_data]     /Users/karennurlybekov/nltk_data...\n",
      "[nltk_data]   Package stopwords is already up-to-date!\n",
      "[nltk_data] Downloading package wordnet to\n",
      "[nltk_data]     /Users/karennurlybekov/nltk_data...\n",
      "[nltk_data]   Package wordnet is already up-to-date!\n",
      "[nltk_data] Downloading package omw-1.4 to\n",
      "[nltk_data]     /Users/karennurlybekov/nltk_data...\n",
      "[nltk_data]   Package omw-1.4 is already up-to-date!\n",
      "100%|██████████| 5292/5292 [00:02<00:00, 1964.50it/s]\n"
     ]
    },
    {
     "data": {
      "text/plain": [
       "  category                                               text  \\\n",
       "0     arts  rob delaney vir das galen hopper samson kayo g...   \n",
       "1     arts  andris nelsons conducts a joint concert of the...   \n",
       "2     arts  warner music group has brought on sherry tan t...   \n",
       "3     arts  adele will explore what she s been going throu...   \n",
       "4     arts  you are using an older browser version please ...   \n",
       "\n",
       "                                          clean_text  \n",
       "0  rob da galen hopper samson kayo guz khan nick ...  \n",
       "1  joint concert boston symphony orchestra visiti...  \n",
       "2  warner music group brought sherry tan head mus...  \n",
       "3  explore going new album set explore going new ...  \n",
       "4  older browser version please use version best ...  "
      ],
      "text/html": [
       "<div>\n",
       "<style scoped>\n",
       "    .dataframe tbody tr th:only-of-type {\n",
       "        vertical-align: middle;\n",
       "    }\n",
       "\n",
       "    .dataframe tbody tr th {\n",
       "        vertical-align: top;\n",
       "    }\n",
       "\n",
       "    .dataframe thead th {\n",
       "        text-align: right;\n",
       "    }\n",
       "</style>\n",
       "<table border=\"1\" class=\"dataframe\">\n",
       "  <thead>\n",
       "    <tr style=\"text-align: right;\">\n",
       "      <th></th>\n",
       "      <th>category</th>\n",
       "      <th>text</th>\n",
       "      <th>clean_text</th>\n",
       "    </tr>\n",
       "  </thead>\n",
       "  <tbody>\n",
       "    <tr>\n",
       "      <th>0</th>\n",
       "      <td>arts</td>\n",
       "      <td>rob delaney vir das galen hopper samson kayo g...</td>\n",
       "      <td>rob da galen hopper samson kayo guz khan nick ...</td>\n",
       "    </tr>\n",
       "    <tr>\n",
       "      <th>1</th>\n",
       "      <td>arts</td>\n",
       "      <td>andris nelsons conducts a joint concert of the...</td>\n",
       "      <td>joint concert boston symphony orchestra visiti...</td>\n",
       "    </tr>\n",
       "    <tr>\n",
       "      <th>2</th>\n",
       "      <td>arts</td>\n",
       "      <td>warner music group has brought on sherry tan t...</td>\n",
       "      <td>warner music group brought sherry tan head mus...</td>\n",
       "    </tr>\n",
       "    <tr>\n",
       "      <th>3</th>\n",
       "      <td>arts</td>\n",
       "      <td>adele will explore what she s been going throu...</td>\n",
       "      <td>explore going new album set explore going new ...</td>\n",
       "    </tr>\n",
       "    <tr>\n",
       "      <th>4</th>\n",
       "      <td>arts</td>\n",
       "      <td>you are using an older browser version please ...</td>\n",
       "      <td>older browser version please use version best ...</td>\n",
       "    </tr>\n",
       "  </tbody>\n",
       "</table>\n",
       "</div>"
      ]
     },
     "execution_count": 7,
     "metadata": {},
     "output_type": "execute_result"
    }
   ],
   "execution_count": 7
  },
  {
   "metadata": {
    "ExecuteTime": {
     "end_time": "2025-03-01T02:40:05.564850Z",
     "start_time": "2025-03-01T02:40:05.208617Z"
    }
   },
   "cell_type": "code",
   "source": "df.to_csv('data_1.csv', index=False)",
   "id": "b758cf36fa8dd852",
   "outputs": [],
   "execution_count": 8
  },
  {
   "metadata": {
    "ExecuteTime": {
     "end_time": "2025-02-24T15:38:59.534070Z",
     "start_time": "2025-02-24T15:38:59.482797Z"
    }
   },
   "cell_type": "code",
   "source": "df.head()",
   "id": "be18a60ec501c84d",
   "outputs": [
    {
     "data": {
      "text/plain": [
       "  category                                               text  \\\n",
       "0     arts  you are using an older browser version please ...   \n",
       "1     arts  on march two of classical music s most accompl...   \n",
       "2     arts  bpt after a year of being locked away at home ...   \n",
       "3     arts  pilot uninjured plane hit sandbar while landin...   \n",
       "4     arts  colleen distin photo by facebook toronto sun a...   \n",
       "\n",
       "                                          clean_text  \n",
       "0  older browser version please use version best ...  \n",
       "1  march two classical music accomplished well kn...  \n",
       "2  year locked away home world eager reopen exper...  \n",
       "3  pilot uninjured plane hit landing float plane ...  \n",
       "4  colleen photo sun lost wallet returned owner c...  "
      ],
      "text/html": [
       "<div>\n",
       "<style scoped>\n",
       "    .dataframe tbody tr th:only-of-type {\n",
       "        vertical-align: middle;\n",
       "    }\n",
       "\n",
       "    .dataframe tbody tr th {\n",
       "        vertical-align: top;\n",
       "    }\n",
       "\n",
       "    .dataframe thead th {\n",
       "        text-align: right;\n",
       "    }\n",
       "</style>\n",
       "<table border=\"1\" class=\"dataframe\">\n",
       "  <thead>\n",
       "    <tr style=\"text-align: right;\">\n",
       "      <th></th>\n",
       "      <th>category</th>\n",
       "      <th>text</th>\n",
       "      <th>clean_text</th>\n",
       "    </tr>\n",
       "  </thead>\n",
       "  <tbody>\n",
       "    <tr>\n",
       "      <th>0</th>\n",
       "      <td>arts</td>\n",
       "      <td>you are using an older browser version please ...</td>\n",
       "      <td>older browser version please use version best ...</td>\n",
       "    </tr>\n",
       "    <tr>\n",
       "      <th>1</th>\n",
       "      <td>arts</td>\n",
       "      <td>on march two of classical music s most accompl...</td>\n",
       "      <td>march two classical music accomplished well kn...</td>\n",
       "    </tr>\n",
       "    <tr>\n",
       "      <th>2</th>\n",
       "      <td>arts</td>\n",
       "      <td>bpt after a year of being locked away at home ...</td>\n",
       "      <td>year locked away home world eager reopen exper...</td>\n",
       "    </tr>\n",
       "    <tr>\n",
       "      <th>3</th>\n",
       "      <td>arts</td>\n",
       "      <td>pilot uninjured plane hit sandbar while landin...</td>\n",
       "      <td>pilot uninjured plane hit landing float plane ...</td>\n",
       "    </tr>\n",
       "    <tr>\n",
       "      <th>4</th>\n",
       "      <td>arts</td>\n",
       "      <td>colleen distin photo by facebook toronto sun a...</td>\n",
       "      <td>colleen photo sun lost wallet returned owner c...</td>\n",
       "    </tr>\n",
       "  </tbody>\n",
       "</table>\n",
       "</div>"
      ]
     },
     "execution_count": 36,
     "metadata": {},
     "output_type": "execute_result"
    }
   ],
   "execution_count": 36
  },
  {
   "metadata": {
    "ExecuteTime": {
     "end_time": "2025-02-24T15:39:21.520092Z",
     "start_time": "2025-02-24T15:39:21.442561Z"
    }
   },
   "cell_type": "code",
   "source": [
    "df = df[df[\"clean_text\"].str.strip().astype(bool)]\n",
    "df.head()"
   ],
   "id": "ebef34812aac939d",
   "outputs": [
    {
     "data": {
      "text/plain": [
       "  category                                               text  \\\n",
       "0     arts  you are using an older browser version please ...   \n",
       "1     arts  on march two of classical music s most accompl...   \n",
       "2     arts  bpt after a year of being locked away at home ...   \n",
       "3     arts  pilot uninjured plane hit sandbar while landin...   \n",
       "4     arts  colleen distin photo by facebook toronto sun a...   \n",
       "\n",
       "                                          clean_text  \n",
       "0  older browser version please use version best ...  \n",
       "1  march two classical music accomplished well kn...  \n",
       "2  year locked away home world eager reopen exper...  \n",
       "3  pilot uninjured plane hit landing float plane ...  \n",
       "4  colleen photo sun lost wallet returned owner c...  "
      ],
      "text/html": [
       "<div>\n",
       "<style scoped>\n",
       "    .dataframe tbody tr th:only-of-type {\n",
       "        vertical-align: middle;\n",
       "    }\n",
       "\n",
       "    .dataframe tbody tr th {\n",
       "        vertical-align: top;\n",
       "    }\n",
       "\n",
       "    .dataframe thead th {\n",
       "        text-align: right;\n",
       "    }\n",
       "</style>\n",
       "<table border=\"1\" class=\"dataframe\">\n",
       "  <thead>\n",
       "    <tr style=\"text-align: right;\">\n",
       "      <th></th>\n",
       "      <th>category</th>\n",
       "      <th>text</th>\n",
       "      <th>clean_text</th>\n",
       "    </tr>\n",
       "  </thead>\n",
       "  <tbody>\n",
       "    <tr>\n",
       "      <th>0</th>\n",
       "      <td>arts</td>\n",
       "      <td>you are using an older browser version please ...</td>\n",
       "      <td>older browser version please use version best ...</td>\n",
       "    </tr>\n",
       "    <tr>\n",
       "      <th>1</th>\n",
       "      <td>arts</td>\n",
       "      <td>on march two of classical music s most accompl...</td>\n",
       "      <td>march two classical music accomplished well kn...</td>\n",
       "    </tr>\n",
       "    <tr>\n",
       "      <th>2</th>\n",
       "      <td>arts</td>\n",
       "      <td>bpt after a year of being locked away at home ...</td>\n",
       "      <td>year locked away home world eager reopen exper...</td>\n",
       "    </tr>\n",
       "    <tr>\n",
       "      <th>3</th>\n",
       "      <td>arts</td>\n",
       "      <td>pilot uninjured plane hit sandbar while landin...</td>\n",
       "      <td>pilot uninjured plane hit landing float plane ...</td>\n",
       "    </tr>\n",
       "    <tr>\n",
       "      <th>4</th>\n",
       "      <td>arts</td>\n",
       "      <td>colleen distin photo by facebook toronto sun a...</td>\n",
       "      <td>colleen photo sun lost wallet returned owner c...</td>\n",
       "    </tr>\n",
       "  </tbody>\n",
       "</table>\n",
       "</div>"
      ]
     },
     "execution_count": 37,
     "metadata": {},
     "output_type": "execute_result"
    }
   ],
   "execution_count": 37
  },
  {
   "metadata": {},
   "cell_type": "code",
   "outputs": [],
   "execution_count": null,
   "source": "",
   "id": "92fa1f5605036bae"
  }
 ],
 "metadata": {
  "kernelspec": {
   "display_name": "Python 3",
   "language": "python",
   "name": "python3"
  },
  "language_info": {
   "codemirror_mode": {
    "name": "ipython",
    "version": 2
   },
   "file_extension": ".py",
   "mimetype": "text/x-python",
   "name": "python",
   "nbconvert_exporter": "python",
   "pygments_lexer": "ipython2",
   "version": "2.7.6"
  }
 },
 "nbformat": 4,
 "nbformat_minor": 5
}
