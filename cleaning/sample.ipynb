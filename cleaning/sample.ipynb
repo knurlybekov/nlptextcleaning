{
 "cells": [
  {
   "cell_type": "markdown",
   "id": "8a77807f92f26ee",
   "metadata": {},
   "source": [
    "# This is a sample Jupyter Notebook\n",
    "\n",
    "Below is an example of a code cell. \n",
    "Put your cursor into the cell and press Shift+Enter to execute it and select the next one, or click !here goes the icon of the corresponding button in the gutter! button.\n",
    "To debug a cell, press Alt+Shift+Enter, or click !here goes the icon of the corresponding button in the gutter! button.\n",
    "\n",
    "Press Double Shift to search everywhere for classes, files, tool windows, actions, and settings.\n",
    "\n",
    "To learn more about Jupyter Notebooks in PyCharm, see [help](https://www.jetbrains.com/help/pycharm/jupyter-notebook-support.html).\n",
    "For an overview of PyCharm, go to Help -> Learn IDE features or refer to [our documentation](https://www.jetbrains.com/help/pycharm/getting-started.html)."
   ]
  },
  {
   "cell_type": "code",
   "execution_count": 65,
   "id": "fbc121e30a2defb3",
   "metadata": {
    "ExecuteTime": {
     "end_time": "2025-02-19T08:42:52.517225Z",
     "start_time": "2025-02-19T08:42:52.397611Z"
    }
   },
   "outputs": [
    {
     "name": "stdout",
     "output_type": "stream",
     "text": [
      "  category                                               text\n",
      "0     arts  you are using an older browser version. please...\n",
      "1     arts  on 31 march two of classical music s most acco...\n",
      "2     arts  bpt after a year of being locked away at home ...\n",
      "3     arts  pilot uninjured plane hit sandbar while landin...\n",
      "4     arts  colleen distin photo by facebook toronto sun ....\n"
     ]
    }
   ],
   "source": [
    "import pandas as pd\n",
    "\n",
    "df = pd.read_csv('rest_data.csv')\n",
    "print(df.head())"
   ]
  },
  {
   "cell_type": "code",
   "execution_count": 53,
   "id": "e8b31a8e5c83ba88",
   "metadata": {
    "ExecuteTime": {
     "end_time": "2025-02-18T23:06:57.555170Z",
     "start_time": "2025-02-18T23:06:57.552Z"
    }
   },
   "outputs": [
    {
     "data": {
      "text/plain": [
       "array(['crime', 'economy', 'disaster', 'other', 'weather', 'sport',\n",
       "       'environmental', 'labour', 'politics', 'humanInterest', 'arts',\n",
       "       'social', 'health', 'science', 'lifestyle', 'religion', 'unrest',\n",
       "       'education'], dtype=object)"
      ]
     },
     "execution_count": 53,
     "metadata": {},
     "output_type": "execute_result"
    }
   ],
   "source": [
    "df['category'].unique()"
   ]
  },
  {
   "cell_type": "code",
   "execution_count": 66,
   "id": "4a74916f73e67e92",
   "metadata": {
    "ExecuteTime": {
     "end_time": "2025-02-19T08:43:06.722975Z",
     "start_time": "2025-02-19T08:43:06.718104Z"
    }
   },
   "outputs": [],
   "source": [
    "df = df.dropna(axis=0, how='any')"
   ]
  },
  {
   "cell_type": "code",
   "execution_count": 67,
   "id": "fbe34611d6132048",
   "metadata": {
    "ExecuteTime": {
     "end_time": "2025-02-19T08:43:09.454241Z",
     "start_time": "2025-02-19T08:43:09.439197Z"
    }
   },
   "outputs": [],
   "source": [
    "df = df.apply(lambda x: x.str.lower())"
   ]
  },
  {
   "cell_type": "code",
   "execution_count": 68,
   "id": "6fa42d0b68d71910",
   "metadata": {
    "ExecuteTime": {
     "end_time": "2025-02-19T08:43:12.780309Z",
     "start_time": "2025-02-19T08:43:12.195576Z"
    }
   },
   "outputs": [
    {
     "name": "stdout",
     "output_type": "stream",
     "text": [
      "  category                                               text\n",
      "0     arts  you are using an older browser version please ...\n",
      "1     arts  on march two of classical music s most accompl...\n",
      "2     arts  bpt after a year of being locked away at home ...\n",
      "3     arts  pilot uninjured plane hit sandbar while landin...\n",
      "4     arts  colleen distin photo by facebook toronto sun a...\n"
     ]
    }
   ],
   "source": [
    "df[\"text\"] = df[\"text\"].apply(lambda x: \" \".join(\"\".join([ch if ch.isalpha() or ch.isspace() else \"\" for ch in str(x)]).split()))\n",
    "\n",
    "print(df.head())"
   ]
  },
  {
   "cell_type": "code",
   "execution_count": 69,
   "id": "509ce632f2ddecb4",
   "metadata": {
    "ExecuteTime": {
     "end_time": "2025-02-19T08:43:20.428594Z",
     "start_time": "2025-02-19T08:43:16.139059Z"
    }
   },
   "outputs": [
    {
     "name": "stderr",
     "output_type": "stream",
     "text": [
      "[nltk_data] Downloading package punkt to\n",
      "[nltk_data]     /Users/karennurlybekov/nltk_data...\n",
      "[nltk_data]   Package punkt is already up-to-date!\n"
     ]
    },
    {
     "data": {
      "text/html": [
       "<div>\n",
       "<style scoped>\n",
       "    .dataframe tbody tr th:only-of-type {\n",
       "        vertical-align: middle;\n",
       "    }\n",
       "\n",
       "    .dataframe tbody tr th {\n",
       "        vertical-align: top;\n",
       "    }\n",
       "\n",
       "    .dataframe thead th {\n",
       "        text-align: right;\n",
       "    }\n",
       "</style>\n",
       "<table border=\"1\" class=\"dataframe\">\n",
       "  <thead>\n",
       "    <tr style=\"text-align: right;\">\n",
       "      <th></th>\n",
       "      <th>category</th>\n",
       "      <th>text</th>\n",
       "      <th>tokenized_text</th>\n",
       "    </tr>\n",
       "  </thead>\n",
       "  <tbody>\n",
       "    <tr>\n",
       "      <th>0</th>\n",
       "      <td>arts</td>\n",
       "      <td>you are using an older browser version please ...</td>\n",
       "      <td>[you, are, using, an, older, browser, version,...</td>\n",
       "    </tr>\n",
       "    <tr>\n",
       "      <th>1</th>\n",
       "      <td>arts</td>\n",
       "      <td>on march two of classical music s most accompl...</td>\n",
       "      <td>[on, march, two, of, classical, music, s, most...</td>\n",
       "    </tr>\n",
       "    <tr>\n",
       "      <th>2</th>\n",
       "      <td>arts</td>\n",
       "      <td>bpt after a year of being locked away at home ...</td>\n",
       "      <td>[bpt, after, a, year, of, being, locked, away,...</td>\n",
       "    </tr>\n",
       "    <tr>\n",
       "      <th>3</th>\n",
       "      <td>arts</td>\n",
       "      <td>pilot uninjured plane hit sandbar while landin...</td>\n",
       "      <td>[pilot, uninjured, plane, hit, sandbar, while,...</td>\n",
       "    </tr>\n",
       "    <tr>\n",
       "      <th>4</th>\n",
       "      <td>arts</td>\n",
       "      <td>colleen distin photo by facebook toronto sun a...</td>\n",
       "      <td>[colleen, distin, photo, by, facebook, toronto...</td>\n",
       "    </tr>\n",
       "  </tbody>\n",
       "</table>\n",
       "</div>"
      ],
      "text/plain": [
       "  category                                               text  \\\n",
       "0     arts  you are using an older browser version please ...   \n",
       "1     arts  on march two of classical music s most accompl...   \n",
       "2     arts  bpt after a year of being locked away at home ...   \n",
       "3     arts  pilot uninjured plane hit sandbar while landin...   \n",
       "4     arts  colleen distin photo by facebook toronto sun a...   \n",
       "\n",
       "                                      tokenized_text  \n",
       "0  [you, are, using, an, older, browser, version,...  \n",
       "1  [on, march, two, of, classical, music, s, most...  \n",
       "2  [bpt, after, a, year, of, being, locked, away,...  \n",
       "3  [pilot, uninjured, plane, hit, sandbar, while,...  \n",
       "4  [colleen, distin, photo, by, facebook, toronto...  "
      ]
     },
     "execution_count": 69,
     "metadata": {},
     "output_type": "execute_result"
    }
   ],
   "source": [
    "import nltk\n",
    "from nltk.tokenize import word_tokenize\n",
    "\n",
    "# lowercase\n",
    "# isalpha\n",
    "nltk.download(\"punkt\")\n",
    "\n",
    "df[\"tokenized_text\"] = df[\"text\"].apply(lambda x: word_tokenize(x.lower()))\n",
    "\n",
    "df.head()\n",
    "\n",
    "# stopwords\n",
    "# correst errors\n",
    "# limitazition"
   ]
  },
  {
   "cell_type": "code",
   "execution_count": 70,
   "id": "6cc84d3f04033bfd",
   "metadata": {
    "ExecuteTime": {
     "end_time": "2025-02-19T08:43:24.078399Z",
     "start_time": "2025-02-19T08:43:23.874949Z"
    }
   },
   "outputs": [
    {
     "name": "stderr",
     "output_type": "stream",
     "text": [
      "[nltk_data] Downloading package stopwords to\n",
      "[nltk_data]     /Users/karennurlybekov/nltk_data...\n",
      "[nltk_data]   Package stopwords is already up-to-date!\n"
     ]
    },
    {
     "data": {
      "text/html": [
       "<div>\n",
       "<style scoped>\n",
       "    .dataframe tbody tr th:only-of-type {\n",
       "        vertical-align: middle;\n",
       "    }\n",
       "\n",
       "    .dataframe tbody tr th {\n",
       "        vertical-align: top;\n",
       "    }\n",
       "\n",
       "    .dataframe thead th {\n",
       "        text-align: right;\n",
       "    }\n",
       "</style>\n",
       "<table border=\"1\" class=\"dataframe\">\n",
       "  <thead>\n",
       "    <tr style=\"text-align: right;\">\n",
       "      <th></th>\n",
       "      <th>category</th>\n",
       "      <th>text</th>\n",
       "      <th>tokenized_text</th>\n",
       "      <th>text_stopwords_removed</th>\n",
       "    </tr>\n",
       "  </thead>\n",
       "  <tbody>\n",
       "    <tr>\n",
       "      <th>0</th>\n",
       "      <td>arts</td>\n",
       "      <td>you are using an older browser version please ...</td>\n",
       "      <td>[you, are, using, an, older, browser, version,...</td>\n",
       "      <td>[using, older, browser, version, please, use, ...</td>\n",
       "    </tr>\n",
       "    <tr>\n",
       "      <th>1</th>\n",
       "      <td>arts</td>\n",
       "      <td>on march two of classical music s most accompl...</td>\n",
       "      <td>[on, march, two, of, classical, music, s, most...</td>\n",
       "      <td>[march, two, classical, music, accomplished, w...</td>\n",
       "    </tr>\n",
       "    <tr>\n",
       "      <th>2</th>\n",
       "      <td>arts</td>\n",
       "      <td>bpt after a year of being locked away at home ...</td>\n",
       "      <td>[bpt, after, a, year, of, being, locked, away,...</td>\n",
       "      <td>[bpt, year, locked, away, home, world, eager, ...</td>\n",
       "    </tr>\n",
       "    <tr>\n",
       "      <th>3</th>\n",
       "      <td>arts</td>\n",
       "      <td>pilot uninjured plane hit sandbar while landin...</td>\n",
       "      <td>[pilot, uninjured, plane, hit, sandbar, while,...</td>\n",
       "      <td>[pilot, uninjured, plane, hit, sandbar, landin...</td>\n",
       "    </tr>\n",
       "    <tr>\n",
       "      <th>4</th>\n",
       "      <td>arts</td>\n",
       "      <td>colleen distin photo by facebook toronto sun a...</td>\n",
       "      <td>[colleen, distin, photo, by, facebook, toronto...</td>\n",
       "      <td>[colleen, distin, photo, facebook, toronto, su...</td>\n",
       "    </tr>\n",
       "  </tbody>\n",
       "</table>\n",
       "</div>"
      ],
      "text/plain": [
       "  category                                               text  \\\n",
       "0     arts  you are using an older browser version please ...   \n",
       "1     arts  on march two of classical music s most accompl...   \n",
       "2     arts  bpt after a year of being locked away at home ...   \n",
       "3     arts  pilot uninjured plane hit sandbar while landin...   \n",
       "4     arts  colleen distin photo by facebook toronto sun a...   \n",
       "\n",
       "                                      tokenized_text  \\\n",
       "0  [you, are, using, an, older, browser, version,...   \n",
       "1  [on, march, two, of, classical, music, s, most...   \n",
       "2  [bpt, after, a, year, of, being, locked, away,...   \n",
       "3  [pilot, uninjured, plane, hit, sandbar, while,...   \n",
       "4  [colleen, distin, photo, by, facebook, toronto...   \n",
       "\n",
       "                              text_stopwords_removed  \n",
       "0  [using, older, browser, version, please, use, ...  \n",
       "1  [march, two, classical, music, accomplished, w...  \n",
       "2  [bpt, year, locked, away, home, world, eager, ...  \n",
       "3  [pilot, uninjured, plane, hit, sandbar, landin...  \n",
       "4  [colleen, distin, photo, facebook, toronto, su...  "
      ]
     },
     "execution_count": 70,
     "metadata": {},
     "output_type": "execute_result"
    }
   ],
   "source": [
    "import nltk\n",
    "from nltk.corpus import stopwords\n",
    "nltk.download('stopwords')\n",
    "\n",
    "stop_words = set(stopwords.words('english'))\n",
    "# df[\"text_stopwords_removed\"] = df[\"tokenized_text\"].apply(lambda x: \" \".join([word for word in x.split() if word.lower() not in stop_words]))\n",
    "\n",
    "df[\"text_stopwords_removed\"] = df[\"tokenized_text\"].apply(lambda words: [word for word in words if word.lower() not in stop_words])\n",
    "\n",
    "\n",
    "df.head()\n"
   ]
  },
  {
   "cell_type": "code",
   "execution_count": 71,
   "id": "27b9b0d59fccb063",
   "metadata": {
    "ExecuteTime": {
     "end_time": "2025-02-19T08:43:37.508115Z",
     "start_time": "2025-02-19T08:43:37.498238Z"
    }
   },
   "outputs": [
    {
     "data": {
      "text/html": [
       "<div>\n",
       "<style scoped>\n",
       "    .dataframe tbody tr th:only-of-type {\n",
       "        vertical-align: middle;\n",
       "    }\n",
       "\n",
       "    .dataframe tbody tr th {\n",
       "        vertical-align: top;\n",
       "    }\n",
       "\n",
       "    .dataframe thead th {\n",
       "        text-align: right;\n",
       "    }\n",
       "</style>\n",
       "<table border=\"1\" class=\"dataframe\">\n",
       "  <thead>\n",
       "    <tr style=\"text-align: right;\">\n",
       "      <th></th>\n",
       "      <th>category</th>\n",
       "      <th>text</th>\n",
       "      <th>text_stopwords_removed</th>\n",
       "    </tr>\n",
       "  </thead>\n",
       "  <tbody>\n",
       "    <tr>\n",
       "      <th>0</th>\n",
       "      <td>arts</td>\n",
       "      <td>you are using an older browser version please ...</td>\n",
       "      <td>[using, older, browser, version, please, use, ...</td>\n",
       "    </tr>\n",
       "    <tr>\n",
       "      <th>1</th>\n",
       "      <td>arts</td>\n",
       "      <td>on march two of classical music s most accompl...</td>\n",
       "      <td>[march, two, classical, music, accomplished, w...</td>\n",
       "    </tr>\n",
       "    <tr>\n",
       "      <th>2</th>\n",
       "      <td>arts</td>\n",
       "      <td>bpt after a year of being locked away at home ...</td>\n",
       "      <td>[bpt, year, locked, away, home, world, eager, ...</td>\n",
       "    </tr>\n",
       "    <tr>\n",
       "      <th>3</th>\n",
       "      <td>arts</td>\n",
       "      <td>pilot uninjured plane hit sandbar while landin...</td>\n",
       "      <td>[pilot, uninjured, plane, hit, sandbar, landin...</td>\n",
       "    </tr>\n",
       "    <tr>\n",
       "      <th>4</th>\n",
       "      <td>arts</td>\n",
       "      <td>colleen distin photo by facebook toronto sun a...</td>\n",
       "      <td>[colleen, distin, photo, facebook, toronto, su...</td>\n",
       "    </tr>\n",
       "    <tr>\n",
       "      <th>...</th>\n",
       "      <td>...</td>\n",
       "      <td>...</td>\n",
       "      <td>...</td>\n",
       "    </tr>\n",
       "    <tr>\n",
       "      <th>5287</th>\n",
       "      <td>weather</td>\n",
       "      <td>orangeburg this evening in orangeburg cloudy s...</td>\n",
       "      <td>[orangeburg, evening, orangeburg, cloudy, skie...</td>\n",
       "    </tr>\n",
       "    <tr>\n",
       "      <th>5288</th>\n",
       "      <td>weather</td>\n",
       "      <td>national basketball association north american...</td>\n",
       "      <td>[national, basketball, association, north, ame...</td>\n",
       "    </tr>\n",
       "    <tr>\n",
       "      <th>5289</th>\n",
       "      <td>weather</td>\n",
       "      <td>las vegas ap the southwest continued to bake s...</td>\n",
       "      <td>[las, vegas, ap, southwest, continued, bake, s...</td>\n",
       "    </tr>\n",
       "    <tr>\n",
       "      <th>5290</th>\n",
       "      <td>weather</td>\n",
       "      <td>here is today s weather outlook for jun in mad...</td>\n",
       "      <td>[today, weather, outlook, jun, madison, wi, ma...</td>\n",
       "    </tr>\n",
       "    <tr>\n",
       "      <th>5291</th>\n",
       "      <td>weather</td>\n",
       "      <td>singapore about years ago sea levels in singap...</td>\n",
       "      <td>[singapore, years, ago, sea, levels, singapore...</td>\n",
       "    </tr>\n",
       "  </tbody>\n",
       "</table>\n",
       "<p>5292 rows × 3 columns</p>\n",
       "</div>"
      ],
      "text/plain": [
       "     category                                               text  \\\n",
       "0        arts  you are using an older browser version please ...   \n",
       "1        arts  on march two of classical music s most accompl...   \n",
       "2        arts  bpt after a year of being locked away at home ...   \n",
       "3        arts  pilot uninjured plane hit sandbar while landin...   \n",
       "4        arts  colleen distin photo by facebook toronto sun a...   \n",
       "...       ...                                                ...   \n",
       "5287  weather  orangeburg this evening in orangeburg cloudy s...   \n",
       "5288  weather  national basketball association north american...   \n",
       "5289  weather  las vegas ap the southwest continued to bake s...   \n",
       "5290  weather  here is today s weather outlook for jun in mad...   \n",
       "5291  weather  singapore about years ago sea levels in singap...   \n",
       "\n",
       "                                 text_stopwords_removed  \n",
       "0     [using, older, browser, version, please, use, ...  \n",
       "1     [march, two, classical, music, accomplished, w...  \n",
       "2     [bpt, year, locked, away, home, world, eager, ...  \n",
       "3     [pilot, uninjured, plane, hit, sandbar, landin...  \n",
       "4     [colleen, distin, photo, facebook, toronto, su...  \n",
       "...                                                 ...  \n",
       "5287  [orangeburg, evening, orangeburg, cloudy, skie...  \n",
       "5288  [national, basketball, association, north, ame...  \n",
       "5289  [las, vegas, ap, southwest, continued, bake, s...  \n",
       "5290  [today, weather, outlook, jun, madison, wi, ma...  \n",
       "5291  [singapore, years, ago, sea, levels, singapore...  \n",
       "\n",
       "[5292 rows x 3 columns]"
      ]
     },
     "execution_count": 71,
     "metadata": {},
     "output_type": "execute_result"
    }
   ],
   "source": [
    "df_clean = df.drop(columns=['tokenized_text'])\n",
    "df_clean"
   ]
  },
  {
   "cell_type": "code",
   "execution_count": 72,
   "id": "ce3e11f2db2db552",
   "metadata": {
    "ExecuteTime": {
     "end_time": "2025-02-19T14:36:44.185636Z",
     "start_time": "2025-02-19T08:43:54.095307Z"
    }
   },
   "outputs": [
    {
     "name": "stderr",
     "output_type": "stream",
     "text": [
      "100%|██████████| 5292/5292 [5:52:50<00:00,  4.00s/it]   \n"
     ]
    },
    {
     "data": {
      "text/html": [
       "<div>\n",
       "<style scoped>\n",
       "    .dataframe tbody tr th:only-of-type {\n",
       "        vertical-align: middle;\n",
       "    }\n",
       "\n",
       "    .dataframe tbody tr th {\n",
       "        vertical-align: top;\n",
       "    }\n",
       "\n",
       "    .dataframe thead th {\n",
       "        text-align: right;\n",
       "    }\n",
       "</style>\n",
       "<table border=\"1\" class=\"dataframe\">\n",
       "  <thead>\n",
       "    <tr style=\"text-align: right;\">\n",
       "      <th></th>\n",
       "      <th>category</th>\n",
       "      <th>text</th>\n",
       "      <th>tokenized_text</th>\n",
       "      <th>text_stopwords_removed</th>\n",
       "      <th>fixed_text</th>\n",
       "    </tr>\n",
       "  </thead>\n",
       "  <tbody>\n",
       "    <tr>\n",
       "      <th>0</th>\n",
       "      <td>arts</td>\n",
       "      <td>you are using an older browser version please ...</td>\n",
       "      <td>[you, are, using, an, older, browser, version,...</td>\n",
       "      <td>[using, older, browser, version, please, use, ...</td>\n",
       "      <td>using older brother version please use support...</td>\n",
       "    </tr>\n",
       "    <tr>\n",
       "      <th>1</th>\n",
       "      <td>arts</td>\n",
       "      <td>on march two of classical music s most accompl...</td>\n",
       "      <td>[on, march, two, of, classical, music, s, most...</td>\n",
       "      <td>[march, two, classical, music, accomplished, w...</td>\n",
       "      <td>march two classical music accomplished well kn...</td>\n",
       "    </tr>\n",
       "    <tr>\n",
       "      <th>2</th>\n",
       "      <td>arts</td>\n",
       "      <td>bpt after a year of being locked away at home ...</td>\n",
       "      <td>[bpt, after, a, year, of, being, locked, away,...</td>\n",
       "      <td>[bpt, year, locked, away, home, world, eager, ...</td>\n",
       "      <td>but year locked away home world eager open exp...</td>\n",
       "    </tr>\n",
       "    <tr>\n",
       "      <th>3</th>\n",
       "      <td>arts</td>\n",
       "      <td>pilot uninjured plane hit sandbar while landin...</td>\n",
       "      <td>[pilot, uninjured, plane, hit, sandbar, while,...</td>\n",
       "      <td>[pilot, uninjured, plane, hit, sandbar, landin...</td>\n",
       "      <td>pilot uninjured plane hit sandbag landing floa...</td>\n",
       "    </tr>\n",
       "    <tr>\n",
       "      <th>4</th>\n",
       "      <td>arts</td>\n",
       "      <td>colleen distin photo by facebook toronto sun a...</td>\n",
       "      <td>[colleen, distin, photo, by, facebook, toronto...</td>\n",
       "      <td>[colleen, distin, photo, facebook, toronto, su...</td>\n",
       "      <td>college listen photo facebook toronto sun lost...</td>\n",
       "    </tr>\n",
       "  </tbody>\n",
       "</table>\n",
       "</div>"
      ],
      "text/plain": [
       "  category                                               text  \\\n",
       "0     arts  you are using an older browser version please ...   \n",
       "1     arts  on march two of classical music s most accompl...   \n",
       "2     arts  bpt after a year of being locked away at home ...   \n",
       "3     arts  pilot uninjured plane hit sandbar while landin...   \n",
       "4     arts  colleen distin photo by facebook toronto sun a...   \n",
       "\n",
       "                                      tokenized_text  \\\n",
       "0  [you, are, using, an, older, browser, version,...   \n",
       "1  [on, march, two, of, classical, music, s, most...   \n",
       "2  [bpt, after, a, year, of, being, locked, away,...   \n",
       "3  [pilot, uninjured, plane, hit, sandbar, while,...   \n",
       "4  [colleen, distin, photo, by, facebook, toronto...   \n",
       "\n",
       "                              text_stopwords_removed  \\\n",
       "0  [using, older, browser, version, please, use, ...   \n",
       "1  [march, two, classical, music, accomplished, w...   \n",
       "2  [bpt, year, locked, away, home, world, eager, ...   \n",
       "3  [pilot, uninjured, plane, hit, sandbar, landin...   \n",
       "4  [colleen, distin, photo, facebook, toronto, su...   \n",
       "\n",
       "                                          fixed_text  \n",
       "0  using older brother version please use support...  \n",
       "1  march two classical music accomplished well kn...  \n",
       "2  but year locked away home world eager open exp...  \n",
       "3  pilot uninjured plane hit sandbag landing floa...  \n",
       "4  college listen photo facebook toronto sun lost...  "
      ]
     },
     "execution_count": 72,
     "metadata": {},
     "output_type": "execute_result"
    }
   ],
   "source": [
    "from textblob import TextBlob\n",
    "from tqdm import tqdm\n",
    "\n",
    "tqdm.pandas()\n",
    "\n",
    "# Apply TextBlob correction with a progress bar\n",
    "# df[\"fixed_text\"] = df[\"text_stopwords_removed\"].progress_apply(lambda x: str(TextBlob(x).correct()))\n",
    "\n",
    "df[\"fixed_text\"] = df[\"text_stopwords_removed\"].progress_apply(\n",
    "    lambda x: \" \".join([str(TextBlob(word).correct()) for word in x])\n",
    ")\n",
    "\n",
    "# Display DataFrame\n",
    "df.head()"
   ]
  },
  {
   "cell_type": "code",
   "execution_count": 73,
   "id": "844d21df300dd8b5",
   "metadata": {
    "ExecuteTime": {
     "end_time": "2025-02-19T23:00:41.697961Z",
     "start_time": "2025-02-19T23:00:38.670667Z"
    }
   },
   "outputs": [
    {
     "data": {
      "text/html": [
       "<div>\n",
       "<style scoped>\n",
       "    .dataframe tbody tr th:only-of-type {\n",
       "        vertical-align: middle;\n",
       "    }\n",
       "\n",
       "    .dataframe tbody tr th {\n",
       "        vertical-align: top;\n",
       "    }\n",
       "\n",
       "    .dataframe thead th {\n",
       "        text-align: right;\n",
       "    }\n",
       "</style>\n",
       "<table border=\"1\" class=\"dataframe\">\n",
       "  <thead>\n",
       "    <tr style=\"text-align: right;\">\n",
       "      <th></th>\n",
       "      <th>category</th>\n",
       "      <th>text</th>\n",
       "      <th>tokenized_text</th>\n",
       "      <th>text_stopwords_removed</th>\n",
       "      <th>fixed_text</th>\n",
       "    </tr>\n",
       "  </thead>\n",
       "  <tbody>\n",
       "    <tr>\n",
       "      <th>0</th>\n",
       "      <td>arts</td>\n",
       "      <td>you are using an older browser version please ...</td>\n",
       "      <td>[using, older, brother, version, please, use, ...</td>\n",
       "      <td>[using, older, browser, version, please, use, ...</td>\n",
       "      <td>using older brother version please use support...</td>\n",
       "    </tr>\n",
       "    <tr>\n",
       "      <th>1</th>\n",
       "      <td>arts</td>\n",
       "      <td>on march two of classical music s most accompl...</td>\n",
       "      <td>[march, two, classical, music, accomplished, w...</td>\n",
       "      <td>[march, two, classical, music, accomplished, w...</td>\n",
       "      <td>march two classical music accomplished well kn...</td>\n",
       "    </tr>\n",
       "    <tr>\n",
       "      <th>2</th>\n",
       "      <td>arts</td>\n",
       "      <td>bpt after a year of being locked away at home ...</td>\n",
       "      <td>[but, year, locked, away, home, world, eager, ...</td>\n",
       "      <td>[bpt, year, locked, away, home, world, eager, ...</td>\n",
       "      <td>but year locked away home world eager open exp...</td>\n",
       "    </tr>\n",
       "    <tr>\n",
       "      <th>3</th>\n",
       "      <td>arts</td>\n",
       "      <td>pilot uninjured plane hit sandbar while landin...</td>\n",
       "      <td>[pilot, uninjured, plane, hit, sandbag, landin...</td>\n",
       "      <td>[pilot, uninjured, plane, hit, sandbar, landin...</td>\n",
       "      <td>pilot uninjured plane hit sandbag landing floa...</td>\n",
       "    </tr>\n",
       "    <tr>\n",
       "      <th>4</th>\n",
       "      <td>arts</td>\n",
       "      <td>colleen distin photo by facebook toronto sun a...</td>\n",
       "      <td>[college, listen, photo, facebook, toronto, su...</td>\n",
       "      <td>[colleen, distin, photo, facebook, toronto, su...</td>\n",
       "      <td>college listen photo facebook toronto sun lost...</td>\n",
       "    </tr>\n",
       "  </tbody>\n",
       "</table>\n",
       "</div>"
      ],
      "text/plain": [
       "  category                                               text  \\\n",
       "0     arts  you are using an older browser version please ...   \n",
       "1     arts  on march two of classical music s most accompl...   \n",
       "2     arts  bpt after a year of being locked away at home ...   \n",
       "3     arts  pilot uninjured plane hit sandbar while landin...   \n",
       "4     arts  colleen distin photo by facebook toronto sun a...   \n",
       "\n",
       "                                      tokenized_text  \\\n",
       "0  [using, older, brother, version, please, use, ...   \n",
       "1  [march, two, classical, music, accomplished, w...   \n",
       "2  [but, year, locked, away, home, world, eager, ...   \n",
       "3  [pilot, uninjured, plane, hit, sandbag, landin...   \n",
       "4  [college, listen, photo, facebook, toronto, su...   \n",
       "\n",
       "                              text_stopwords_removed  \\\n",
       "0  [using, older, browser, version, please, use, ...   \n",
       "1  [march, two, classical, music, accomplished, w...   \n",
       "2  [bpt, year, locked, away, home, world, eager, ...   \n",
       "3  [pilot, uninjured, plane, hit, sandbar, landin...   \n",
       "4  [colleen, distin, photo, facebook, toronto, su...   \n",
       "\n",
       "                                          fixed_text  \n",
       "0  using older brother version please use support...  \n",
       "1  march two classical music accomplished well kn...  \n",
       "2  but year locked away home world eager open exp...  \n",
       "3  pilot uninjured plane hit sandbag landing floa...  \n",
       "4  college listen photo facebook toronto sun lost...  "
      ]
     },
     "execution_count": 73,
     "metadata": {},
     "output_type": "execute_result"
    }
   ],
   "source": [
    "df[\"tokenized_text\"] = df[\"fixed_text\"].apply(lambda x: word_tokenize(x.lower()))\n",
    "\n",
    "df.head()"
   ]
  },
  {
   "cell_type": "code",
   "execution_count": 74,
   "id": "fc3856675e7862d6",
   "metadata": {
    "ExecuteTime": {
     "end_time": "2025-02-19T23:00:54.789055Z",
     "start_time": "2025-02-19T23:00:54.053610Z"
    }
   },
   "outputs": [],
   "source": [
    "df.to_csv(\"data_1.csv\", index=False)"
   ]
  },
  {
   "cell_type": "code",
   "execution_count": null,
   "id": "79e9a4a90b7307d6",
   "metadata": {},
   "outputs": [],
   "source": []
  }
 ],
 "metadata": {
  "kernelspec": {
   "display_name": ".venv",
   "language": "python",
   "name": "python3"
  },
  "language_info": {
   "codemirror_mode": {
    "name": "ipython",
    "version": 2
   },
   "file_extension": ".py",
   "mimetype": "text/x-python",
   "name": "python",
   "nbconvert_exporter": "python",
   "pygments_lexer": "ipython2",
   "version": "3.12.6"
  }
 },
 "nbformat": 4,
 "nbformat_minor": 5
}
