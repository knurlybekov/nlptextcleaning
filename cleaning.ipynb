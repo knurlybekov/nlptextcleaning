{
 "cells": [
  {
   "cell_type": "code",
   "id": "initial_id",
   "metadata": {
    "collapsed": true,
    "ExecuteTime": {
     "end_time": "2025-02-20T23:14:48.856268Z",
     "start_time": "2025-02-20T23:14:48.749883Z"
    }
   },
   "source": [
    "import pandas as pd\n",
    "\n",
    "df = pd.read_csv('rest_data.csv')"
   ],
   "outputs": [],
   "execution_count": 29
  },
  {
   "metadata": {
    "ExecuteTime": {
     "end_time": "2025-02-20T23:14:50.751799Z",
     "start_time": "2025-02-20T23:14:50.746281Z"
    }
   },
   "cell_type": "code",
   "source": "df = df.dropna(axis=0, how='any')\n",
   "id": "e690e6ee1f6580b7",
   "outputs": [],
   "execution_count": 30
  },
  {
   "metadata": {
    "ExecuteTime": {
     "end_time": "2025-02-20T23:14:51.987112Z",
     "start_time": "2025-02-20T23:14:51.975078Z"
    }
   },
   "cell_type": "code",
   "source": "df = df.apply(lambda x: x.str.lower())\n",
   "id": "b2d85044ca9e6393",
   "outputs": [],
   "execution_count": 31
  },
  {
   "metadata": {
    "ExecuteTime": {
     "end_time": "2025-02-20T23:14:57.870205Z",
     "start_time": "2025-02-20T23:14:57.283511Z"
    }
   },
   "cell_type": "code",
   "source": [
    "df[\"text\"] = df[\"text\"].apply(lambda x: \" \".join(\"\".join([ch if ch.isalpha() or ch.isspace() else \"\" for ch in str(x)]).split()))\n",
    "\n",
    "print(df.head())"
   ],
   "id": "197459a6021aa1af",
   "outputs": [
    {
     "name": "stdout",
     "output_type": "stream",
     "text": [
      "  category                                               text\n",
      "0     arts  you are using an older browser version please ...\n",
      "1     arts  on march two of classical music s most accompl...\n",
      "2     arts  bpt after a year of being locked away at home ...\n",
      "3     arts  pilot uninjured plane hit sandbar while landin...\n",
      "4     arts  colleen distin photo by facebook toronto sun a...\n"
     ]
    }
   ],
   "execution_count": 32
  },
  {
   "metadata": {
    "ExecuteTime": {
     "end_time": "2025-02-20T23:15:01.465111Z",
     "start_time": "2025-02-20T23:15:01.457686Z"
    }
   },
   "cell_type": "code",
   "source": [
    "df[\"text\"] = df[\"text\"].apply(lambda x: x.strip())\n",
    "\n",
    "print(df.head())"
   ],
   "id": "9ce2a90ede7ea390",
   "outputs": [
    {
     "name": "stdout",
     "output_type": "stream",
     "text": [
      "  category                                               text\n",
      "0     arts  you are using an older browser version please ...\n",
      "1     arts  on march two of classical music s most accompl...\n",
      "2     arts  bpt after a year of being locked away at home ...\n",
      "3     arts  pilot uninjured plane hit sandbar while landin...\n",
      "4     arts  colleen distin photo by facebook toronto sun a...\n"
     ]
    }
   ],
   "execution_count": 33
  },
  {
   "metadata": {
    "ExecuteTime": {
     "end_time": "2025-02-20T23:06:58.015708Z",
     "start_time": "2025-02-20T23:05:59.689547Z"
    }
   },
   "cell_type": "code",
   "source": [
    "# print(df.head())\n",
    "# from textblob import TextBlob\n",
    "# from tqdm import tqdm\n",
    "# \n",
    "# tqdm.pandas()\n",
    "# \n",
    "# # fix errors\n",
    "# df[\"fixed_text\"] = df[\"text\"].progress_apply(\n",
    "#     lambda x: \"\".join([str(TextBlob(word).correct()) for word in x])\n",
    "# )\n",
    "# \n",
    "# df.head()"
   ],
   "id": "82b69fa4758db9ba",
   "outputs": [
    {
     "name": "stdout",
     "output_type": "stream",
     "text": [
      "  category                                               text  \\\n",
      "0     arts  you are using an older browser version please ...   \n",
      "1     arts  on march two of classical music s most accompl...   \n",
      "2     arts  bpt after a year of being locked away at home ...   \n",
      "3     arts  pilot uninjured plane hit sandbar while landin...   \n",
      "4     arts  colleen distin photo by facebook toronto sun a...   \n",
      "\n",
      "                                          fixed_text  \n",
      "0  y o u   a r e   u s i n g   a n   o l d e r   ...  \n",
      "1  o n   m a r c h   t w o   o f   c l a s s i c ...  \n",
      "2  b p t   a f t e r   a   y e a r   o f   b e i ...  \n",
      "3  p i l o t   u n i n j u r e d   p l a n e   h ...  \n",
      "4  c o l l e e n   d i s t i n   p h o t o   b y ...  \n"
     ]
    },
    {
     "name": "stderr",
     "output_type": "stream",
     "text": [
      "100%|██████████| 5292/5292 [00:58<00:00, 90.74it/s] \n"
     ]
    },
    {
     "data": {
      "text/plain": [
       "  category                                               text  \\\n",
       "0     arts  you are using an older browser version please ...   \n",
       "1     arts  on march two of classical music s most accompl...   \n",
       "2     arts  bpt after a year of being locked away at home ...   \n",
       "3     arts  pilot uninjured plane hit sandbar while landin...   \n",
       "4     arts  colleen distin photo by facebook toronto sun a...   \n",
       "\n",
       "                                          fixed_text  \n",
       "0  you are using an older browser version please ...  \n",
       "1  on march two of classical music s most accompl...  \n",
       "2  bpt after a year of being locked away at home ...  \n",
       "3  pilot uninjured plane hit sandbar while landin...  \n",
       "4  colleen distin photo by facebook toronto sun a...  "
      ],
      "text/html": [
       "<div>\n",
       "<style scoped>\n",
       "    .dataframe tbody tr th:only-of-type {\n",
       "        vertical-align: middle;\n",
       "    }\n",
       "\n",
       "    .dataframe tbody tr th {\n",
       "        vertical-align: top;\n",
       "    }\n",
       "\n",
       "    .dataframe thead th {\n",
       "        text-align: right;\n",
       "    }\n",
       "</style>\n",
       "<table border=\"1\" class=\"dataframe\">\n",
       "  <thead>\n",
       "    <tr style=\"text-align: right;\">\n",
       "      <th></th>\n",
       "      <th>category</th>\n",
       "      <th>text</th>\n",
       "      <th>fixed_text</th>\n",
       "    </tr>\n",
       "  </thead>\n",
       "  <tbody>\n",
       "    <tr>\n",
       "      <th>0</th>\n",
       "      <td>arts</td>\n",
       "      <td>you are using an older browser version please ...</td>\n",
       "      <td>you are using an older browser version please ...</td>\n",
       "    </tr>\n",
       "    <tr>\n",
       "      <th>1</th>\n",
       "      <td>arts</td>\n",
       "      <td>on march two of classical music s most accompl...</td>\n",
       "      <td>on march two of classical music s most accompl...</td>\n",
       "    </tr>\n",
       "    <tr>\n",
       "      <th>2</th>\n",
       "      <td>arts</td>\n",
       "      <td>bpt after a year of being locked away at home ...</td>\n",
       "      <td>bpt after a year of being locked away at home ...</td>\n",
       "    </tr>\n",
       "    <tr>\n",
       "      <th>3</th>\n",
       "      <td>arts</td>\n",
       "      <td>pilot uninjured plane hit sandbar while landin...</td>\n",
       "      <td>pilot uninjured plane hit sandbar while landin...</td>\n",
       "    </tr>\n",
       "    <tr>\n",
       "      <th>4</th>\n",
       "      <td>arts</td>\n",
       "      <td>colleen distin photo by facebook toronto sun a...</td>\n",
       "      <td>colleen distin photo by facebook toronto sun a...</td>\n",
       "    </tr>\n",
       "  </tbody>\n",
       "</table>\n",
       "</div>"
      ]
     },
     "execution_count": 26,
     "metadata": {},
     "output_type": "execute_result"
    }
   ],
   "execution_count": 26
  },
  {
   "metadata": {
    "ExecuteTime": {
     "end_time": "2025-02-20T23:15:13.839631Z",
     "start_time": "2025-02-20T23:15:11.012867Z"
    }
   },
   "cell_type": "code",
   "source": [
    "import re\n",
    "import nltk\n",
    "from nltk.corpus import stopwords, words\n",
    "from nltk.stem import WordNetLemmatizer\n",
    "from tqdm import tqdm\n",
    "\n",
    "tqdm.pandas()\n",
    "\n",
    "nltk.download('stopwords')\n",
    "nltk.download('wordnet')\n",
    "nltk.download('omw-1.4')  # optional, for better lemmatizer coverage\n",
    "english_vocab = set(w.lower() for w in words.words()) # english nltk vocab\n",
    "\n",
    "stop_words = set(stopwords.words('english'))\n",
    "lemmatizer = WordNetLemmatizer()\n",
    "\n",
    "df['clean_text'] = df['text'].progress_apply(\n",
    "    lambda text: \" \".join(\n",
    "        # Lemmatize each token\n",
    "        lemmatizer.lemmatize(word)\n",
    "        # Keep only letters, convert to lowercase, then split on whitespace\n",
    "        for word in re.sub(r'[^a-z\\s]', '', text.lower()).split()\n",
    "        # Remove stopwords\n",
    "        if word not in stop_words\n",
    "         if word not in stop_words\n",
    "           and len(word) > 2\n",
    "           and word in english_vocab\n",
    "    )\n",
    ")\n",
    "\n",
    "df.head()"
   ],
   "id": "1f4c806c1a6e544c",
   "outputs": [
    {
     "name": "stderr",
     "output_type": "stream",
     "text": [
      "[nltk_data] Downloading package stopwords to\n",
      "[nltk_data]     /Users/karennurlybekov/nltk_data...\n",
      "[nltk_data]   Package stopwords is already up-to-date!\n",
      "[nltk_data] Downloading package wordnet to\n",
      "[nltk_data]     /Users/karennurlybekov/nltk_data...\n",
      "[nltk_data]   Package wordnet is already up-to-date!\n",
      "[nltk_data] Downloading package omw-1.4 to\n",
      "[nltk_data]     /Users/karennurlybekov/nltk_data...\n",
      "[nltk_data]   Package omw-1.4 is already up-to-date!\n",
      "100%|██████████| 5292/5292 [00:02<00:00, 1928.30it/s]\n"
     ]
    },
    {
     "data": {
      "text/plain": [
       "  category                                               text  \\\n",
       "0     arts  you are using an older browser version please ...   \n",
       "1     arts  on march two of classical music s most accompl...   \n",
       "2     arts  bpt after a year of being locked away at home ...   \n",
       "3     arts  pilot uninjured plane hit sandbar while landin...   \n",
       "4     arts  colleen distin photo by facebook toronto sun a...   \n",
       "\n",
       "                                          clean_text  \n",
       "0  older browser version please use version best ...  \n",
       "1  march two classical music accomplished well kn...  \n",
       "2  year locked away home world eager reopen exper...  \n",
       "3  pilot uninjured plane hit landing float plane ...  \n",
       "4  colleen photo sun lost wallet returned owner c...  "
      ],
      "text/html": [
       "<div>\n",
       "<style scoped>\n",
       "    .dataframe tbody tr th:only-of-type {\n",
       "        vertical-align: middle;\n",
       "    }\n",
       "\n",
       "    .dataframe tbody tr th {\n",
       "        vertical-align: top;\n",
       "    }\n",
       "\n",
       "    .dataframe thead th {\n",
       "        text-align: right;\n",
       "    }\n",
       "</style>\n",
       "<table border=\"1\" class=\"dataframe\">\n",
       "  <thead>\n",
       "    <tr style=\"text-align: right;\">\n",
       "      <th></th>\n",
       "      <th>category</th>\n",
       "      <th>text</th>\n",
       "      <th>clean_text</th>\n",
       "    </tr>\n",
       "  </thead>\n",
       "  <tbody>\n",
       "    <tr>\n",
       "      <th>0</th>\n",
       "      <td>arts</td>\n",
       "      <td>you are using an older browser version please ...</td>\n",
       "      <td>older browser version please use version best ...</td>\n",
       "    </tr>\n",
       "    <tr>\n",
       "      <th>1</th>\n",
       "      <td>arts</td>\n",
       "      <td>on march two of classical music s most accompl...</td>\n",
       "      <td>march two classical music accomplished well kn...</td>\n",
       "    </tr>\n",
       "    <tr>\n",
       "      <th>2</th>\n",
       "      <td>arts</td>\n",
       "      <td>bpt after a year of being locked away at home ...</td>\n",
       "      <td>year locked away home world eager reopen exper...</td>\n",
       "    </tr>\n",
       "    <tr>\n",
       "      <th>3</th>\n",
       "      <td>arts</td>\n",
       "      <td>pilot uninjured plane hit sandbar while landin...</td>\n",
       "      <td>pilot uninjured plane hit landing float plane ...</td>\n",
       "    </tr>\n",
       "    <tr>\n",
       "      <th>4</th>\n",
       "      <td>arts</td>\n",
       "      <td>colleen distin photo by facebook toronto sun a...</td>\n",
       "      <td>colleen photo sun lost wallet returned owner c...</td>\n",
       "    </tr>\n",
       "  </tbody>\n",
       "</table>\n",
       "</div>"
      ]
     },
     "execution_count": 34,
     "metadata": {},
     "output_type": "execute_result"
    }
   ],
   "execution_count": 34
  },
  {
   "metadata": {
    "ExecuteTime": {
     "end_time": "2025-02-20T23:15:17.140327Z",
     "start_time": "2025-02-20T23:15:16.897706Z"
    }
   },
   "cell_type": "code",
   "source": "df.to_csv('data_4.csv', index=False)",
   "id": "b758cf36fa8dd852",
   "outputs": [],
   "execution_count": 35
  },
  {
   "metadata": {},
   "cell_type": "code",
   "outputs": [],
   "execution_count": null,
   "source": "",
   "id": "be18a60ec501c84d"
  }
 ],
 "metadata": {
  "kernelspec": {
   "display_name": "Python 3",
   "language": "python",
   "name": "python3"
  },
  "language_info": {
   "codemirror_mode": {
    "name": "ipython",
    "version": 2
   },
   "file_extension": ".py",
   "mimetype": "text/x-python",
   "name": "python",
   "nbconvert_exporter": "python",
   "pygments_lexer": "ipython2",
   "version": "2.7.6"
  }
 },
 "nbformat": 4,
 "nbformat_minor": 5
}
